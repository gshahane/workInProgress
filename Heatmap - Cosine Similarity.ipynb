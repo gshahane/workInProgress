{
 "cells": [
  {
   "cell_type": "code",
   "execution_count": 1,
   "metadata": {
    "collapsed": false
   },
   "outputs": [],
   "source": [
    "#Import Packages\n",
    "import numpy as np\n",
    "import pandas as pd\n",
    "import seaborn as sns\n",
    "import os\n",
    "import matplotlib.pyplot as plt\n",
    "\n",
    "#Change Working Directory\n",
    "os.chdir(\"C:\\\\Users\\\\gaura\\\\Documents\\\\MIM - UMCP\\\\Data Science Resources\\\\Python\\\\Projects\\\\phrack\\\\result\")\n",
    "\n",
    "#Make DataFrame and Plot Heatmap\n",
    "df = pd.read_csv(\"cosine similarity.csv\")\n",
    "del df[\"Unnamed: 0\"]\n",
    "plt.figure(figsize=(20,20))\n",
    "sns.set()\n",
    "sns.set_style(\"darkgrid\")\n",
    "ax = sns.heatmap(df[df.iloc[:,:]>0.60], vmin = 0, vmax = 1)\n",
    "plt.show()\n"
   ]
  },
  {
   "cell_type": "code",
   "execution_count": null,
   "metadata": {
    "collapsed": true
   },
   "outputs": [],
   "source": [
    "\n",
    "\"\"\"\n",
    "# Get the handle names\n",
    "df_handle = pd.read_csv(\"handles.csv\")\n",
    "dict_similar = {}\n",
    "\n",
    "#Creating a dataframe with only similarities greater than 0.60\n",
    "for i in range(1,43):\n",
    "    t = df.iloc[i,:].copy()\n",
    "    temp = t.reset_index().sort_values(i, ascending = False)\n",
    "    value = temp[temp.iloc[:,1].between(0.6,0.99)]['index']\n",
    "    #if not value.empty:\n",
    "    dict_similar[i] = list(value)\n",
    "\n",
    "dct = pd.DataFrame.from_dict(dict_similar, orient='index')\n",
    "\n",
    "#Merge with handle names to form final dataframe.\n",
    "d = pd.merge(dct, df_handle, how=\"left\", left_index = True, right_index = True)\n",
    "\n",
    "reorder = [      'filename',     'Handle', 0,            1,           \n",
    "                  2,            3,            4,\n",
    "                  5,            6,            7,            8,            9,\n",
    "                 10,           11,           12,           13,           14,\n",
    "                 15,           16,           17,           18,           19,\n",
    "                 20,           21,           22,           23,           24,\n",
    "                 25,           26, ]\n",
    "print(d[reorder])\n",
    "\"\"\""
   ]
  },
  {
   "cell_type": "code",
   "execution_count": 95,
   "metadata": {
    "collapsed": false
   },
   "outputs": [
    {
     "name": "stderr",
     "output_type": "stream",
     "text": [
      "C:\\Users\\gaura\\Anaconda3\\lib\\site-packages\\matplotlib\\pyplot.py:516: RuntimeWarning: More than 20 figures have been opened. Figures created through the pyplot interface (`matplotlib.pyplot.figure`) are retained until explicitly closed and may consume too much memory. (To control this warning, see the rcParam `figure.max_open_warning`).\n",
      "  max_open_warning, RuntimeWarning)\n"
     ]
    },
    {
     "name": "stdout",
     "output_type": "stream",
     "text": [
      "{0: 'HPP_Aleph_1997-04-09.docx', 1: 'HPP_Aristotle_1992-04-26.docx', 2: 'HPP_BroadwayHacker(Mike)_1986-04-18.docx', 3: 'HPP_ChandaLeir_1989-02-25.docx', 4: 'HPP_ChrisGoggans_1991-11-17.docx', 5: 'HPP_CrimsonDeath_1986-03-13.docx', 6: 'HPP_Daemon9_1996-01-09.docx', 7: 'HPP_DaveStarr_1987-01-01.docx', 8: 'HPP_Digit_2003-08-13.docx', 9: 'HPP_DiskJockey_1991-10-13.docx', 10: 'HPP_EmmanuelGoldStein_1989-11-17.docx', 11: 'HPP_Eric_1987-02-17.docx', 12: 'HPP_ErikBloodaxe_1989-07-10.docx', 13: 'HPP_FX_2012-04-14.docx', 14: 'HPP_Horizon_2002-12-28.docx', 15: 'HPP_ihaq_2010-11-17.docx', 16: 'HPP_Ishmael_1998-12-25.docx', 17: 'HPP_KarlMarx_1988-12-23.docx', 18: 'HPP_Keith_1987-03-29.docx', 19: 'HPP_kevin_1997-09-01.docx', 20: 'HPP_LexLuthor_1992-08-01.docx', 21: 'HPP_MarkusHess_1990-05-28.docx', 22: 'HPP_Mike_1988-07-06.docx', 23: 'HPP_Mudge_1996-11-08.docx', 24: 'HPP_Napolean Solo_1988-11-04.docx', 25: 'HPP_NightStalker_1986-12-01.docx', 26: 'HPP_pachuco_1998-01-26.docx', 27: 'HPP_PatrickKroupa_1993-03-01.docx', 28: 'HPP_PaXTeam_2009-11-06.docx', 29: 'HPP_ScanMan_1986-09-25.docx', 30: 'HPP_ScottJeffreyEllentuch_1986-11-01.docx', 31: 'HPP_Scut_2004-07-13.docx', 32: 'HPP_ShadowHawk_1992-06-26.docx', 33: 'HPP_ShockwaveRider_2000-01-05.docx', 34: 'HPP_ShootingStar_1991-09-15.docx', 35: 'HPP_SolarDesigner_2016-05-06.docx', 36: 'HPP_SuperNigger_1992-12-31.docx', 37: 'HPP_TaranKing_1988-10-12.docx', 38: 'HPP_Terminus_1987-07-28.docx', 39: 'HPP_TheCircleOfLostHackers_2007-05-27.docx', 40: 'HPP_TheMentor_1989-01-25.docx', 41: 'HPP_Tiago_2005-01-08.docx', 42: 'HPP_UnixTerrorist_2008-11-04.docx', 43: 'HPP_Yesmar_1998-08-07.docx'}\n",
      "Int64Index([ 1,  2,  3,  4,  5,  6,  7,  8,  9, 10, 11, 12, 13, 14, 15, 16, 17,\n",
      "            18, 19, 20, 21, 22, 23, 24, 25, 26, 27, 28, 29, 30, 31, 32, 33, 34,\n",
      "            35, 36, 37, 38, 39, 40, 41, 42],\n",
      "           dtype='int64')\n"
     ]
    }
   ],
   "source": [
    "#Import Packages\n",
    "import numpy as np\n",
    "import pandas as pd\n",
    "import seaborn as sns\n",
    "import os\n",
    "import matplotlib.pyplot as plt\n",
    "\n",
    "#Change Working Directory\n",
    "os.chdir(\"C:\\\\Users\\\\gaura\\\\Documents\\\\MIM - UMCP\\\\Data Science Resources\\\\Python\\\\Projects\\\\phrack\\\\result\")\n",
    "\n",
    "#Make DataFrame and Plot Heatmap\n",
    "df = pd.read_csv(\"cosine similarity.csv\")\n",
    "plt.figure(figsize=(20,20))\n",
    "sns.set()\n",
    "#ax = sns.heatmap(df, vmin = 0, vmax = 1)\n",
    "#plt.show()\n",
    "\n",
    "# Get the handle names\n",
    "df_handle = pd.read_csv(\"handles.csv\")\n",
    "\n",
    "dict_handle = dict(zip(df_handle.iloc[:,0], df_handle.iloc[:,1]))\n",
    "print(dict_handle)\n",
    "dict_similar = {}\n",
    "\n",
    "#Creating a dataframe with only similarities greater than 0.60\n",
    "for i in range(1,43):\n",
    "    t = df.iloc[i,:].copy()\n",
    "    temp = t.reset_index().sort_values(i, ascending = False)\n",
    "    value = temp[temp.iloc[:,1].between(0.6,0.99)]['index']\n",
    "    #if not value.empty:\n",
    "    dict_similar[i] = list(value)\n",
    "\n",
    "dct = pd.DataFrame.from_dict(dict_similar, orient='index')\n",
    "\n",
    "print(dct.index)\n",
    "#Merge with handle names to form final dataframe.\n",
    "d = pd.merge(dct, df_handle, how=\"left\", left_index = True, right_index = True)\n",
    "\n",
    "reorder = [      'filename',     'Handle', 0,            1,           \n",
    "                  2,            3,            4,\n",
    "                  5,            6,            7,            8,            9,\n",
    "                 10,           11,           12,           13,           14,\n",
    "                 15,           16,           17,           18,           19,\n",
    "                 20,           21,           22,           23,           24,\n",
    "                 25,           26, ]\n",
    "#print(d[reorder])"
   ]
  },
  {
   "cell_type": "code",
   "execution_count": null,
   "metadata": {
    "collapsed": true
   },
   "outputs": [],
   "source": []
  }
 ],
 "metadata": {
  "kernelspec": {
   "display_name": "Python 3",
   "language": "python",
   "name": "python3"
  },
  "language_info": {
   "codemirror_mode": {
    "name": "ipython",
    "version": 3
   },
   "file_extension": ".py",
   "mimetype": "text/x-python",
   "name": "python",
   "nbconvert_exporter": "python",
   "pygments_lexer": "ipython3",
   "version": "3.5.1"
  }
 },
 "nbformat": 4,
 "nbformat_minor": 2
}
